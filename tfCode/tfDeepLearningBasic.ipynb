{
 "cells": [
  {
   "cell_type": "code",
   "execution_count": 8,
   "metadata": {},
   "outputs": [
    {
     "name": "stdout",
     "output_type": "stream",
     "text": [
      "10 0.90334463\n",
      "20 0.67640877\n",
      "30 0.5271826\n",
      "40 0.41872954\n",
      "50 0.3340634\n",
      "60 0.26754025\n",
      "70 0.21408863\n",
      "80 0.17176722\n",
      "90 0.13831447\n",
      "100 0.11175939\n",
      "예측값: [0 1 2 0 0 2]\n",
      "실제값: [0 1 2 0 0 2]\n",
      "정확도: 100.00\n"
     ]
    }
   ],
   "source": [
    "#1\n",
    "import tensorflow as tf\n",
    "import numpy as np\n",
    "\n",
    "#2\n",
    "x_data=np.array([[0,0],[1,0],[1,1],[0,0],[0,0],[0,1]])\n",
    "\n",
    "y_data = np.array([\n",
    "    [1,0,0],\n",
    "    [0,1,0],\n",
    "    [0,0,1],\n",
    "    [1,0,0],\n",
    "    [1,0,0],\n",
    "    [0,0,1]\n",
    "])\n",
    "\n",
    "#3\n",
    "X = tf.placeholder(tf.float32)\n",
    "Y = tf.placeholder(tf.float32)\n",
    "\n",
    "W1 = tf.Variable(tf.random_uniform([2,10],-1.,1.))\n",
    "b1 = tf.Variable(tf.zeros([10]))\n",
    "\n",
    "W2 = tf.Variable(tf.random_uniform([10,3],-1.,1.))\n",
    "b2 = tf.Variable(tf.zeros([3]))\n",
    "\n",
    "L1=tf.add(tf.matmul(X,W1),b1)\n",
    "L1=tf.nn.relu(L1)\n",
    "\n",
    "#4\n",
    "model = tf.add(tf.matmul(L1,W2),b2)\n",
    "\n",
    "#5\n",
    "cost = tf.reduce_mean(tf.nn.softmax_cross_entropy_with_logits_v2(labels=Y, logits=model))\n",
    "\n",
    "#6\n",
    "#경사하강법으로 최적화\n",
    "optimizer = tf.train.AdamOptimizer(learning_rate=0.01)\n",
    "train_op = optimizer.minimize(cost)\n",
    "\n",
    "#텐서플로의 세션 초기화\n",
    "init = tf.global_variables_initializer()\n",
    "sess = tf.Session()\n",
    "sess.run(init)\n",
    "\n",
    "#100번 학습 진행\n",
    "for step in range(100) :\n",
    "    sess.run(train_op,feed_dict={X: x_data, Y: y_data})\n",
    "    \n",
    "    #10번마다 손실값 출력\n",
    "    if (step+1)%10 == 0:\n",
    "        print(step+1, sess.run(cost, feed_dict={X: x_data, Y: y_data}))\n",
    "        \n",
    "#7\n",
    "prediction = tf.argmax(model, 1)\n",
    "target = tf.argmax(Y, 1)\n",
    "print('예측값:', sess.run(prediction, feed_dict={X: x_data}))\n",
    "print('실제값:', sess.run(target, feed_dict={Y: y_data}))\n",
    "\n",
    "#8\n",
    "is_correct = tf.equal(prediction, target)\n",
    "accuracy = tf.reduce_mean(tf.cast(is_correct, tf.float32))\n",
    "print('정확도: %.2f' % sess.run(accuracy*100, feed_dict={X: x_data, Y: y_data}))"
   ]
  },
  {
   "cell_type": "code",
   "execution_count": null,
   "metadata": {},
   "outputs": [],
   "source": []
  },
  {
   "cell_type": "code",
   "execution_count": null,
   "metadata": {},
   "outputs": [],
   "source": []
  }
 ],
 "metadata": {
  "kernelspec": {
   "display_name": "Python 3",
   "language": "python",
   "name": "python3"
  },
  "language_info": {
   "codemirror_mode": {
    "name": "ipython",
    "version": 3
   },
   "file_extension": ".py",
   "mimetype": "text/x-python",
   "name": "python",
   "nbconvert_exporter": "python",
   "pygments_lexer": "ipython3",
   "version": "3.6.7"
  }
 },
 "nbformat": 4,
 "nbformat_minor": 2
}
